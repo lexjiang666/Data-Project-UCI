{
 "cells": [
  {
   "metadata": {
    "ExecuteTime": {
     "end_time": "2025-03-24T22:08:03.955754Z",
     "start_time": "2025-03-24T22:08:03.930097Z"
    }
   },
   "cell_type": "code",
   "source": [
    "import pandas as pd\n",
    "\n",
    "# Load and process data\n",
    "columns = ['school', 'sex', 'age', 'address', 'famsize', 'Pstatus', 'Medu', 'Fedu', 'Mjob', 'Fjob', 'reason', 'guardian', 'traveltime',\n",
    "           'studytime', 'failures', 'schoolsup', 'famsup', 'paid', 'activities', 'nursery', 'higher', 'internet', 'romantic', 'famrel',\n",
    "           'freetime', 'goout', 'Dalc', 'Walc', 'health', 'absences', 'G1', 'G2', 'G3']\n",
    "mat_data = pd.read_csv('/Users/lexjiang/Downloads/student-mat.csv', sep=';', names=columns, header=0)\n",
    "por_data = pd.read_csv('/Users/lexjiang/Downloads/student-por.csv', sep=';', names=columns, header=0)\n",
    "\n",
    "# Convert grades to numeric\n",
    "for df in [mat_data, por_data]:\n",
    "    df['G3'] = pd.to_numeric(df['G3'], errors='coerce')\n",
    "\n",
    "# Validate numeric conversions\n",
    "mat_data['G3'] = mat_data['G3'].fillna(0).astype(int)\n",
    "por_data['G3'] = por_data['G3'].fillna(0).astype(int)\n"
   ],
   "id": "f7ace68b9767b7ea",
   "outputs": [],
   "execution_count": 3
  }
 ],
 "metadata": {
  "kernelspec": {
   "display_name": "Python 3",
   "language": "python",
   "name": "python3"
  },
  "language_info": {
   "codemirror_mode": {
    "name": "ipython",
    "version": 2
   },
   "file_extension": ".py",
   "mimetype": "text/x-python",
   "name": "python",
   "nbconvert_exporter": "python",
   "pygments_lexer": "ipython2",
   "version": "2.7.6"
  }
 },
 "nbformat": 4,
 "nbformat_minor": 5
}
